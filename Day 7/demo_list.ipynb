{
 "cells": [
  {
   "cell_type": "code",
   "execution_count": 11,
   "metadata": {},
   "outputs": [
    {
     "name": "stdout",
     "output_type": "stream",
     "text": [
      "['Banana', 'Orange', 'Apple', 'Mango']\n",
      "['Banana', 'Orange', 'Apple', 'Mango', 'Kiwi']\n"
     ]
    }
   ],
   "source": [
    "fruits = ['Banana', 'Orange', 'Apple', 'Mango']\n",
    "print(fruits)\n",
    "fruits.append('Kiwi')\n",
    "print(fruits)"
   ]
  },
  {
   "cell_type": "code",
   "execution_count": null,
   "metadata": {},
   "outputs": [],
   "source": [
    "print(fruits[-5])"
   ]
  },
  {
   "cell_type": "code",
   "execution_count": 14,
   "metadata": {},
   "outputs": [
    {
     "name": "stdout",
     "output_type": "stream",
     "text": [
      "[]\n",
      "['The Avengers', 'The Dark Knight', 'The Dark Knight Rises']\n"
     ]
    }
   ],
   "source": [
    "movies = []\n",
    "print(movies)\n",
    "movies.append('The Avengers')\n",
    "movies.append('The Dark Knight')\n",
    "movies.append('The Dark Knight Rises')\n",
    "print(movies)"
   ]
  },
  {
   "cell_type": "code",
   "execution_count": 19,
   "metadata": {},
   "outputs": [
    {
     "name": "stdout",
     "output_type": "stream",
     "text": [
      "['', '', '', '', '']\n",
      "['John', 'Mary', 'Peter', 'Jane', 'Tom']\n"
     ]
    }
   ],
   "source": [
    "students = [''] * 5\n",
    "print(students)\n",
    "students[0] = 'John'\n",
    "students[1] = 'Mary'\n",
    "students[2] = 'Peter'\n",
    "students[3] = 'Jane'\n",
    "students[4] = 'Tom'\n",
    "print(students)"
   ]
  },
  {
   "cell_type": "code",
   "execution_count": 23,
   "metadata": {},
   "outputs": [],
   "source": [
    "def print_students(students):\n",
    "    for i in range(len(students)):\n",
    "        print('Student:', students[i])"
   ]
  },
  {
   "cell_type": "code",
   "execution_count": 24,
   "metadata": {},
   "outputs": [
    {
     "name": "stdout",
     "output_type": "stream",
     "text": [
      "Student: Jane\n",
      "Student: John\n",
      "Student: Mary\n",
      "Student: Peter\n",
      "Student: Tom\n"
     ]
    }
   ],
   "source": [
    "students.sort() # sort student names in alphabetical order\n",
    "print_students(students)"
   ]
  },
  {
   "cell_type": "code",
   "execution_count": 25,
   "metadata": {},
   "outputs": [
    {
     "name": "stdout",
     "output_type": "stream",
     "text": [
      "Student: Tom\n",
      "Student: Peter\n",
      "Student: Mary\n",
      "Student: John\n",
      "Student: Jane\n"
     ]
    }
   ],
   "source": [
    "students.reverse() # reverse the order of the student names\n",
    "print_students(students)"
   ]
  },
  {
   "cell_type": "code",
   "execution_count": 27,
   "metadata": {},
   "outputs": [
    {
     "name": "stdout",
     "output_type": "stream",
     "text": [
      "[]\n"
     ]
    }
   ],
   "source": [
    "students.clear() # remove all student names\n",
    "print(students)\n",
    "print_students(students)"
   ]
  },
  {
   "cell_type": "code",
   "execution_count": 34,
   "metadata": {},
   "outputs": [
    {
     "name": "stdout",
     "output_type": "stream",
     "text": [
      "[1, 2, 3, 5, 7, 9]\n",
      "[1, 2, 3, 4, 5, 7, 9]\n",
      "[1, 2, 3, 4, 5, 6, 7, 9]\n",
      "[1, 2, 3, 4, 5, 6, 7, 8, 9]\n",
      "[1, 2, 3, 4, 100, 5, 6, 7, 8, 9]\n"
     ]
    }
   ],
   "source": [
    "numbers = [1, 3, 5, 7, 9]\n",
    "numbers.insert(1, 2)\n",
    "print(numbers)\n",
    "numbers.insert(3, 4)\n",
    "print(numbers)\n",
    "numbers.insert(5, 6)\n",
    "print(numbers)\n",
    "numbers.insert(7, 8)\n",
    "print(numbers)\n",
    "numbers.insert(4, 100)\n",
    "print(numbers)"
   ]
  },
  {
   "cell_type": "code",
   "execution_count": 40,
   "metadata": {},
   "outputs": [
    {
     "name": "stdout",
     "output_type": "stream",
     "text": [
      "3\n",
      "[1, 1, 2, 2, 5, 6, 1]\n"
     ]
    }
   ],
   "source": [
    "numbers = [1, 3, 1, 2, 2, 5, 6, 1]\n",
    "print(numbers.count(1))\n",
    "numbers.remove(3)\n",
    "print(numbers)"
   ]
  },
  {
   "cell_type": "code",
   "execution_count": null,
   "metadata": {},
   "outputs": [],
   "source": [
    "numbers.remove(1) # remove the first occurrence of 1\n",
    "print(numbers)"
   ]
  },
  {
   "cell_type": "code",
   "execution_count": 48,
   "metadata": {},
   "outputs": [
    {
     "name": "stdout",
     "output_type": "stream",
     "text": [
      "['red', 'green', 'blue', 'yellow', 'orange']\n",
      "['red', 'blue', 'yellow', 'orange']\n"
     ]
    }
   ],
   "source": [
    "colors = ['red', 'green', 'blue', 'yellow', 'orange']\n",
    "print(colors)\n",
    "color = input('Enter color to delete: ')\n",
    "if color in colors:\n",
    "    colors.remove(color)\n",
    "else:\n",
    "    print(f'Color {color} not found')\n",
    "print(colors)"
   ]
  }
 ],
 "metadata": {
  "kernelspec": {
   "display_name": "Python 3",
   "language": "python",
   "name": "python3"
  },
  "language_info": {
   "codemirror_mode": {
    "name": "ipython",
    "version": 3
   },
   "file_extension": ".py",
   "mimetype": "text/x-python",
   "name": "python",
   "nbconvert_exporter": "python",
   "pygments_lexer": "ipython3",
   "version": "3.9.12"
  },
  "orig_nbformat": 4
 },
 "nbformat": 4,
 "nbformat_minor": 2
}
