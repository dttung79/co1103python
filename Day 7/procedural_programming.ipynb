{
 "cells": [
  {
   "cell_type": "code",
   "execution_count": null,
   "metadata": {},
   "outputs": [],
   "source": [
    "# Write a program that simulate the autovending machine\n",
    "# The program will print a menu with the following options:\n",
    "# 1. Water ($0.5)\n",
    "# 2. Soda ($1.0)\n",
    "# 3. Coffee ($1.5)\n",
    "\n",
    "# User will enter the number of the option\n",
    "# The program will print the price of the selected item\n",
    "# The program will ask the user to enter the amount of money\n",
    "# The program will print the change"
   ]
  },
  {
   "cell_type": "code",
   "execution_count": null,
   "metadata": {},
   "outputs": [],
   "source": [
    "# Write a program for a cinema\n",
    "# The program will print some movies\n",
    "# The program will ask the user to enter the choice of movie\n",
    "# The program will show seat options (normal - $2, vip - $3, couple - $8)\n",
    "# The program will ask the user to enter the choice of seat\n",
    "# The program will ask the user to enter the number of tickets\n",
    "# The program will print the receipt with the following information:\n",
    "# - Movie name\n",
    "# - Seat type\n",
    "# - Number of tickets\n",
    "# - Total price"
   ]
  }
 ],
 "metadata": {
  "kernelspec": {
   "display_name": "Python 3",
   "language": "python",
   "name": "python3"
  },
  "language_info": {
   "codemirror_mode": {
    "name": "ipython",
    "version": 3
   },
   "file_extension": ".py",
   "mimetype": "text/x-python",
   "name": "python",
   "nbconvert_exporter": "python",
   "pygments_lexer": "ipython3",
   "version": "3.9.12"
  },
  "orig_nbformat": 4
 },
 "nbformat": 4,
 "nbformat_minor": 2
}
