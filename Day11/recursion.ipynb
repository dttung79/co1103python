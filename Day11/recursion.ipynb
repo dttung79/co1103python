{
 "cells": [
  {
   "cell_type": "code",
   "execution_count": 1,
   "metadata": {},
   "outputs": [
    {
     "name": "stdout",
     "output_type": "stream",
     "text": [
      "120\n"
     ]
    }
   ],
   "source": [
    "def fact(n):\n",
    "    if n == 1: return 1\n",
    "    return n * fact(n-1)\n",
    "\n",
    "print(fact(5))"
   ]
  },
  {
   "cell_type": "code",
   "execution_count": 2,
   "metadata": {},
   "outputs": [
    {
     "name": "stdout",
     "output_type": "stream",
     "text": [
      "15\n"
     ]
    }
   ],
   "source": [
    "def sn(n):\n",
    "    if n == 1: return 1\n",
    "    return n + sn(n-1)\n",
    "\n",
    "print(sn(5))"
   ]
  },
  {
   "cell_type": "code",
   "execution_count": 4,
   "metadata": {},
   "outputs": [
    {
     "name": "stdout",
     "output_type": "stream",
     "text": [
      "Not found\n"
     ]
    }
   ],
   "source": [
    "def rec_search(items, x, pos):\n",
    "    if pos == len(items):\n",
    "        return False\n",
    "    if x == items[pos]:\n",
    "        return True\n",
    "    else:\n",
    "        return rec_search(items, x, pos+1)\n",
    "\n",
    "items = [3, 10, 12, 5, 77]\n",
    "x = int(input('Enter x:'))\n",
    "if rec_search(items, x, 0):\n",
    "    print('Found')\n",
    "else:\n",
    "    print('Not found')"
   ]
  },
  {
   "cell_type": "code",
   "execution_count": 5,
   "metadata": {},
   "outputs": [
    {
     "name": "stdout",
     "output_type": "stream",
     "text": [
      "Not found\n"
     ]
    }
   ],
   "source": [
    "def binary_search(items, x, lo, hi):\n",
    "    if lo > hi: return False # not found\n",
    "    m = (lo + hi) // 2\n",
    "    if items[m] == x: return True\n",
    "    if items[m] > x: return binary_search(items, x, lo, m - 1)\n",
    "    return binary_search(items, x, m + 1, hi)\n",
    "\n",
    "items = [3, 5, 10, 12, 77]\n",
    "x = int(input('Enter x:'))\n",
    "lo = 0\n",
    "hi = len(items) - 1\n",
    "if binary_search(items, x, lo, hi):\n",
    "    print('Found')\n",
    "else:\n",
    "    print('Not found')"
   ]
  },
  {
   "cell_type": "code",
   "execution_count": 1,
   "metadata": {},
   "outputs": [
    {
     "name": "stdout",
     "output_type": "stream",
     "text": [
      "1 1 2 3 5 8 13 21 34 55 "
     ]
    }
   ],
   "source": [
    "def fib(n):\n",
    "    if n == 0 or n == 1: return 1\n",
    "    return fib(n-1) + fib(n-2)\n",
    "\n",
    "for i in range(10):\n",
    "    print(fib(i), end=' ')"
   ]
  },
  {
   "cell_type": "code",
   "execution_count": 2,
   "metadata": {},
   "outputs": [
    {
     "name": "stdout",
     "output_type": "stream",
     "text": [
      "1 5 14 30 55 91 140 204 285 "
     ]
    }
   ],
   "source": [
    "def pyramide(n):\n",
    "    if n == 1: return 1\n",
    "    return n**2 + pyramide(n-1)\n",
    "\n",
    "for i in range(1, 10):\n",
    "    print(pyramide(i), end=' ')"
   ]
  },
  {
   "cell_type": "code",
   "execution_count": 7,
   "metadata": {},
   "outputs": [
    {
     "name": "stdout",
     "output_type": "stream",
     "text": [
      "Division by zero\n"
     ]
    }
   ],
   "source": [
    "a = int(input('Enter a: '))\n",
    "b = int(input('Enter b: '))\n",
    "if b != 0:\n",
    "    c = a / b\n",
    "    print(f'{a} / {b} = {c}')\n",
    "else:\n",
    "    print('Division by zero')"
   ]
  },
  {
   "cell_type": "code",
   "execution_count": 19,
   "metadata": {},
   "outputs": [],
   "source": [
    "def get_int(message):\n",
    "    invalid = True\n",
    "    while invalid:\n",
    "        try:\n",
    "            x = int(input(message))\n",
    "            return x\n",
    "        except ValueError:\n",
    "            print('Invalid input. Try again.')"
   ]
  },
  {
   "cell_type": "code",
   "execution_count": null,
   "metadata": {},
   "outputs": [],
   "source": [
    "def divide(a, b):\n",
    "    return a / b\n",
    "try:\n",
    "    a = get_int('Enter a: ')\n",
    "    b = get_int('Enter b: ')\n",
    "    c = divide(a, b)\n",
    "    print(f'{a} / {b} = {c}')\n",
    "except ZeroDivisionError:\n",
    "    print('Khong the chia cho 0')"
   ]
  }
 ],
 "metadata": {
  "kernelspec": {
   "display_name": "Python 3",
   "language": "python",
   "name": "python3"
  },
  "language_info": {
   "codemirror_mode": {
    "name": "ipython",
    "version": 3
   },
   "file_extension": ".py",
   "mimetype": "text/x-python",
   "name": "python",
   "nbconvert_exporter": "python",
   "pygments_lexer": "ipython3",
   "version": "3.9.12"
  },
  "orig_nbformat": 4
 },
 "nbformat": 4,
 "nbformat_minor": 2
}
