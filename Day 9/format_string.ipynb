{
 "cells": [
  {
   "cell_type": "code",
   "execution_count": 24,
   "metadata": {},
   "outputs": [
    {
     "name": "stdout",
     "output_type": "stream",
     "text": [
      "123.456789\n",
      "123.457\n",
      "1.235e+02\n",
      "12345.679%\n"
     ]
    }
   ],
   "source": [
    "x = 123.456789\n",
    "print(x)\n",
    "print(f'{x:.3f}')  # print float number, 3 decimal places, round if necessary\n",
    "print(f'{x:.3e}')  # print exponential number, 3 decimal places, round if necessary\n",
    "print(f'{x:.3%}')  # print percentage, 3 decimal places, round if necessary"
   ]
  },
  {
   "cell_type": "code",
   "execution_count": null,
   "metadata": {},
   "outputs": [],
   "source": [
    "s = 'hello world'\n",
    "print(s.upper())\n",
    "s = 'HELLO WORLD'\n",
    "print(s.lower())\n",
    "s = 'hello world'\n",
    "print(s.title())\n",
    "s = 'hELLo wORLd'\n",
    "print(s.swapcase())"
   ]
  },
  {
   "cell_type": "code",
   "execution_count": null,
   "metadata": {},
   "outputs": [],
   "source": [
    "s = '     hello    python   world        '\n",
    "print(f'|{s}|')\n",
    "print(f'|{s.lstrip()}|')\n",
    "print(f'|{s.rstrip()}|')\n",
    "print(f'|{s.strip()}|')\n",
    "new_s = ' '.join(s.strip().split())\n",
    "print(f'|{new_s}|')"
   ]
  },
  {
   "cell_type": "code",
   "execution_count": null,
   "metadata": {},
   "outputs": [],
   "source": [
    "s = 'a,b,c,d,e'\n",
    "a = s.split(',') # convert string to list\n",
    "print(a)\n",
    "b = ' '.join(a)  # convert list to string\n",
    "print(b)"
   ]
  },
  {
   "cell_type": "code",
   "execution_count": 29,
   "metadata": {},
   "outputs": [
    {
     "name": "stdout",
     "output_type": "stream",
     "text": [
      "['Daniel Radcliffe', 'Emma Watson', 'Rupert Grint', 'Alan Rickman', 'Maggie Smith']\n",
      "Number of actors: 5\n",
      "Daniel Radcliffe\n",
      "Emma Watson\n",
      "Rupert Grint\n",
      "Alan Rickman\n",
      "Maggie Smith\n"
     ]
    }
   ],
   "source": [
    "movie = 'Harry Potter'\n",
    "actors = 'Daniel Radcliffe, Emma Watson, Rupert Grint, Alan Rickman, Maggie Smith'\n",
    "# Count how many actors are there in the string\n",
    "actors_list = actors.split(', ')\n",
    "print(actors_list)\n",
    "print('Number of actors:', len(actors_list))\n",
    "# Print each actor's name in a line\n",
    "# for i in range(len(actors_list)):\n",
    "#    print(actors_list[i])\n",
    "for actor in actors_list:\n",
    "    print(actor)"
   ]
  },
  {
   "cell_type": "code",
   "execution_count": 32,
   "metadata": {},
   "outputs": [
    {
     "name": "stdout",
     "output_type": "stream",
     "text": [
      "|hello world                   |\n",
      "|hello world                   |\n",
      "|                   hello world|\n",
      "|                   hello world|\n",
      "|         hello world          |\n",
      "|         hello world          |\n"
     ]
    }
   ],
   "source": [
    "# Justify string using ljust(), rjust(), center()\n",
    "s = 'hello world'\n",
    "print(f'|{s.ljust(30)}|')\n",
    "print(f'|{s:<30}|')\n",
    "\n",
    "print(f'|{s.rjust(30)}|')\n",
    "print(f'|{s:>30}|')\n",
    "\n",
    "print(f'|{s.center(30)}|')\n",
    "print(f'|{s:^30}|')"
   ]
  },
  {
   "cell_type": "code",
   "execution_count": 34,
   "metadata": {},
   "outputs": [
    {
     "name": "stdout",
     "output_type": "stream",
     "text": [
      "h311O pythOn wOr1d\n"
     ]
    }
   ],
   "source": [
    "s = 'hello python world'\n",
    "teen_s = s.replace('o', 'O').replace('e', '3').replace('l', '1')\n",
    "print(teen_s)"
   ]
  },
  {
   "cell_type": "code",
   "execution_count": 36,
   "metadata": {},
   "outputs": [
    {
     "name": "stdout",
     "output_type": "stream",
     "text": [
      "You are the ****ing ***\n"
     ]
    }
   ],
   "source": [
    "# Enter a message, censor it, change all the F word to ****\n",
    "msg = input('Enter a message: ')\n",
    "cursed_words = ['fuck', 'damn', 'shit', 'ass']\n",
    "for word in cursed_words:\n",
    "    msg = msg.replace(word, '*' * len(word))\n",
    "print(msg)"
   ]
  },
  {
   "cell_type": "code",
   "execution_count": 37,
   "metadata": {},
   "outputs": [
    {
     "name": "stdout",
     "output_type": "stream",
     "text": [
      "Alan Rickman\n",
      "Rupert Grint\n"
     ]
    }
   ],
   "source": [
    "actors = ['Daniel Radcliffe', 'Emma Watson', 'Rupert Grint', 'Alan Rickman', 'Maggie Smith']\n",
    "print(min(actors)) # by alphabetical order\n",
    "print(max(actors))"
   ]
  },
  {
   "cell_type": "code",
   "execution_count": 40,
   "metadata": {},
   "outputs": [
    {
     "name": "stdout",
     "output_type": "stream",
     "text": [
      "hello world\n",
      "hello hello hello \n"
     ]
    }
   ],
   "source": [
    "# String operators: +, *\n",
    "s = 'hello' + ' ' + 'world'\n",
    "print(s)\n",
    "s = 'hello ' * 3\n",
    "print(s)"
   ]
  },
  {
   "cell_type": "code",
   "execution_count": 42,
   "metadata": {},
   "outputs": [
    {
     "name": "stdout",
     "output_type": "stream",
     "text": [
      "hello\n",
      "world\n"
     ]
    }
   ],
   "source": [
    "s = 'hello world'\n",
    "print(s[:5])\n",
    "print(s[-5:])"
   ]
  },
  {
   "cell_type": "code",
   "execution_count": 44,
   "metadata": {},
   "outputs": [
    {
     "name": "stdout",
     "output_type": "stream",
     "text": [
      "red is in the list\n",
      "black is not in the list\n"
     ]
    }
   ],
   "source": [
    "colors = ['red', 'green', 'blue', 'yellow', 'orange', 'purple']\n",
    "if 'red' in colors:\n",
    "    print('red is in the list')\n",
    "if 'black' not in colors:\n",
    "    print('black is not in the list')   "
   ]
  },
  {
   "cell_type": "code",
   "execution_count": 45,
   "metadata": {},
   "outputs": [
    {
     "name": "stdout",
     "output_type": "stream",
     "text": [
      "a is not in the string\n"
     ]
    }
   ],
   "source": [
    "s = 'hello world'\n",
    "if 'a' in s:\n",
    "    print('a is in the string')\n",
    "else:\n",
    "    print('a is not in the string')"
   ]
  },
  {
   "cell_type": "code",
   "execution_count": 52,
   "metadata": {},
   "outputs": [
    {
     "name": "stdout",
     "output_type": "stream",
     "text": [
      "Valid phone number\n"
     ]
    }
   ],
   "source": [
    "# Enter a phone number, check if it is valid (contain only digits)\n",
    "digits = '0123456789'\n",
    "phone = input('Enter your phone: ')\n",
    "valid = True\n",
    "for c in phone:\n",
    "    if c not in digits:\n",
    "        valid = False\n",
    "        break\n",
    "if valid:\n",
    "    print('Valid phone number')\n",
    "else:\n",
    "    print('Invalid phone number')"
   ]
  },
  {
   "cell_type": "code",
   "execution_count": 54,
   "metadata": {},
   "outputs": [
    {
     "name": "stdout",
     "output_type": "stream",
     "text": [
      "Invalid phone number\n"
     ]
    }
   ],
   "source": [
    "phone = input('Enter your phone: ')\n",
    "if phone.isdigit():\n",
    "    print('Valid phone number')\n",
    "else:\n",
    "    print('Invalid phone number')"
   ]
  },
  {
   "cell_type": "code",
   "execution_count": 65,
   "metadata": {},
   "outputs": [
    {
     "name": "stdout",
     "output_type": "stream",
     "text": [
      "Invalid student code\n"
     ]
    }
   ],
   "source": [
    "student_code = input('Enter student code: ')\n",
    "# Check if the student code is valid (start with gch or GCH, followed by 6 digits)\n",
    "# 1. check if length != 9 (invalid)\n",
    "# 2. check if first 3 characters are not gch or GCH (invalid)\n",
    "# 3. check if the rest 6 characters are not digits (invalid)\n",
    "if len(student_code) != 9:\n",
    "    print('Invalid student code')\n",
    "elif not student_code.startswith('gch') and not student_code.startswith('GCH'):\n",
    "    print('Invalid student code')\n",
    "elif not student_code[-6:].isdigit():\n",
    "    print('Invalid student code')\n",
    "else:\n",
    "    print('Valid student code')"
   ]
  },
  {
   "cell_type": "code",
   "execution_count": 67,
   "metadata": {},
   "outputs": [
    {
     "name": "stdout",
     "output_type": "stream",
     "text": [
      "Valid student code\n"
     ]
    }
   ],
   "source": [
    "def check_student_code(code):\n",
    "    if len(code) != 9:\n",
    "        return False\n",
    "    if not code.startswith('gch') and not code.startswith('GCH'):\n",
    "        return False\n",
    "    if not code[-6:].isdigit():\n",
    "        return False\n",
    "    return True\n",
    "if check_student_code(student_code):\n",
    "    print('Valid student code')\n",
    "else:\n",
    "    print('Invalid student code')"
   ]
  },
  {
   "cell_type": "code",
   "execution_count": 66,
   "metadata": {},
   "outputs": [
    {
     "name": "stdout",
     "output_type": "stream",
     "text": [
      "!\"#$%&'()*+,-./:;<=>?@[\\]^_`{|}~\n",
      "hello world I am a student\n"
     ]
    }
   ],
   "source": [
    "# remove all punctuation marks from a string\n",
    "s = 'hello, world! I am a student.'\n",
    "from string import punctuation\n",
    "print(punctuation)\n",
    "for c in punctuation:\n",
    "    s = s.replace(c, '')\n",
    "print(s)"
   ]
  }
 ],
 "metadata": {
  "kernelspec": {
   "display_name": "Python 3",
   "language": "python",
   "name": "python3"
  },
  "language_info": {
   "codemirror_mode": {
    "name": "ipython",
    "version": 3
   },
   "file_extension": ".py",
   "mimetype": "text/x-python",
   "name": "python",
   "nbconvert_exporter": "python",
   "pygments_lexer": "ipython3",
   "version": "3.9.12"
  },
  "orig_nbformat": 4
 },
 "nbformat": 4,
 "nbformat_minor": 2
}
