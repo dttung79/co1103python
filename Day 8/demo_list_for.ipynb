{
 "cells": [
  {
   "cell_type": "code",
   "execution_count": 7,
   "metadata": {},
   "outputs": [
    {
     "name": "stdout",
     "output_type": "stream",
     "text": [
      "1 apple\n",
      "2 mango\n",
      "3 kiwi\n",
      "4 lemon\n",
      "5 banana\n",
      "0 apple\n",
      "1 mango\n",
      "2 kiwi\n",
      "3 lemon\n",
      "4 banana\n"
     ]
    }
   ],
   "source": [
    "fruits = ['apple', 'mango', 'kiwi', 'lemon', 'banana']\n",
    "i = 1\n",
    "while i <= len(fruits):\n",
    "    print(i, fruits[i - 1])\n",
    "    i = i + 1\n",
    "\n",
    "for i in range(len(fruits)):\n",
    "    print(i, fruits[i])"
   ]
  },
  {
   "cell_type": "code",
   "execution_count": 2,
   "metadata": {},
   "outputs": [
    {
     "name": "stdout",
     "output_type": "stream",
     "text": [
      "[42, 48, 35, 31, 32, 84, 9, 54, 26, 63, 88, 98, 62, 24, 74]\n",
      "Max: 98\n",
      "Min: 9\n",
      "Sum: 770\n"
     ]
    }
   ],
   "source": [
    "import random as rd\n",
    "numbers = rd.sample(range(1, 100), 15)\n",
    "print(numbers)\n",
    "print(f'Max: {max(numbers)}')\n",
    "print(f'Min: {min(numbers)}')\n",
    "print(f'Sum: {sum(numbers)}')"
   ]
  },
  {
   "cell_type": "code",
   "execution_count": 16,
   "metadata": {},
   "outputs": [
    {
     "name": "stdout",
     "output_type": "stream",
     "text": [
      "Max: 87\n"
     ]
    }
   ],
   "source": [
    "curr_max = numbers[0]\n",
    "n = len(numbers)\n",
    "for i in range(1, n):\n",
    "    if numbers[i] > curr_max:\n",
    "        curr_max = numbers[i]\n",
    "print(f'Max: {curr_max}')"
   ]
  },
  {
   "cell_type": "code",
   "execution_count": 17,
   "metadata": {},
   "outputs": [
    {
     "name": "stdout",
     "output_type": "stream",
     "text": [
      "Min: 7\n"
     ]
    }
   ],
   "source": [
    "curr_min = numbers[0]\n",
    "for i in range(1, n):\n",
    "    if numbers[i] < curr_min:\n",
    "        curr_min = numbers[i]\n",
    "print(f'Min: {curr_min}')   "
   ]
  },
  {
   "cell_type": "code",
   "execution_count": 20,
   "metadata": {},
   "outputs": [
    {
     "name": "stdout",
     "output_type": "stream",
     "text": [
      "Sum = 654\n"
     ]
    }
   ],
   "source": [
    "s = 0\n",
    "for i in range(n):\n",
    "    s = s + numbers[i]\n",
    "print(f'Sum = {s}')"
   ]
  },
  {
   "cell_type": "code",
   "execution_count": 21,
   "metadata": {},
   "outputs": [
    {
     "name": "stdout",
     "output_type": "stream",
     "text": [
      "Sum of even numbers = 276\n"
     ]
    }
   ],
   "source": [
    "# Calculate sum of even numbers\n",
    "s = 0\n",
    "for i in range(n):\n",
    "    if numbers[i] % 2 == 0:\n",
    "        s += numbers[i] # short for s = s + numbers[i]\n",
    "print(f'Sum of even numbers = {s}')"
   ]
  },
  {
   "cell_type": "code",
   "execution_count": 22,
   "metadata": {},
   "outputs": [
    {
     "name": "stdout",
     "output_type": "stream",
     "text": [
      "Sum of odd numbers = 378\n"
     ]
    }
   ],
   "source": [
    "# sum of odd numbers\n",
    "s = 0\n",
    "for i in range(n):\n",
    "    if numbers[i] % 2 != 0:\n",
    "        s += numbers[i]\n",
    "print(f'Sum of odd numbers = {s}')"
   ]
  },
  {
   "cell_type": "code",
   "execution_count": 4,
   "metadata": {},
   "outputs": [
    {
     "name": "stdout",
     "output_type": "stream",
     "text": [
      "There are 4 odd numbers\n"
     ]
    }
   ],
   "source": [
    "# Counting problems\n",
    "# Count the number of odd numbers\n",
    "count = 0\n",
    "n = len(numbers)\n",
    "for i in range(n):\n",
    "    if numbers[i] % 2 != 0:\n",
    "        count += 1\n",
    "print(f'There are {count} odd numbers')"
   ]
  },
  {
   "cell_type": "code",
   "execution_count": 7,
   "metadata": {},
   "outputs": [
    {
     "name": "stdout",
     "output_type": "stream",
     "text": [
      "[42, 48, 35, 31, 32, 84, 9, 54, 26, 63, 88, 98, 62, 24, 74]\n",
      "Not found\n"
     ]
    }
   ],
   "source": [
    "# Searching problems\n",
    "# Search to return yes/no\n",
    "print(numbers)\n",
    "found = False    # flag variable\n",
    "x = int(input('Enter a number to search: '))\n",
    "for i in range(n):\n",
    "    if x == numbers[i]:\n",
    "        found = True # switch the flag\n",
    "        break\n",
    "print('Found' if found == True else 'Not found')"
   ]
  },
  {
   "cell_type": "code",
   "execution_count": 8,
   "metadata": {},
   "outputs": [
    {
     "name": "stdout",
     "output_type": "stream",
     "text": [
      "No special number\n"
     ]
    }
   ],
   "source": [
    "# We call a special number if it is divisible by 36 & 52\n",
    "# Find if there is a special number\n",
    "found = False\n",
    "for i in range(n):\n",
    "    if numbers[i] % 36 == 0 and numbers[i] % 52 == 0:\n",
    "        found = True\n",
    "        break\n",
    "print('Found special number' if found == True else 'No special number')"
   ]
  },
  {
   "cell_type": "code",
   "execution_count": 10,
   "metadata": {},
   "outputs": [
    {
     "name": "stdout",
     "output_type": "stream",
     "text": [
      "Found at position 2\n"
     ]
    }
   ],
   "source": [
    "# Search to return the found position\n",
    "found_pos = None\n",
    "x = int(input('Enter x to find: '))\n",
    "for i in range(n):\n",
    "    if x == numbers[i]:\n",
    "        found_pos = i\n",
    "        break\n",
    "if found_pos is not None:\n",
    "    print(f'Found at position {i}')\n",
    "else:\n",
    "    print('Not found!')"
   ]
  },
  {
   "cell_type": "code",
   "execution_count": 18,
   "metadata": {},
   "outputs": [
    {
     "name": "stdout",
     "output_type": "stream",
     "text": [
      "[24, -62, 39, 0, 30, -3, 79, -81, 99, 97, -64, 93, -51, 62, -47, -74, -25, -59, -44, 31]\n",
      "Found number: 39\n"
     ]
    }
   ],
   "source": [
    "numbers = rd.sample(range(-99, 100), 20)\n",
    "print(numbers)\n",
    "# Find if there is a positive number that has the last digit is 9 and print that number\n",
    "found_pos = None\n",
    "for i in range(n):\n",
    "    if numbers[i] > 0 and numbers[i] % 10 == 9:\n",
    "        found_pos = i\n",
    "        break\n",
    "if found_pos is not None:\n",
    "    print(f'Found number: {numbers[found_pos]}')\n",
    "else:\n",
    "    print('Not found!')"
   ]
  },
  {
   "cell_type": "code",
   "execution_count": 19,
   "metadata": {},
   "outputs": [
    {
     "name": "stdout",
     "output_type": "stream",
     "text": [
      "Found number: 39\n",
      "Found number: 79\n",
      "Found number: 99\n"
     ]
    }
   ],
   "source": [
    "# Find all positive numbers that ends with 9\n",
    "found = False\n",
    "for i in range(n):\n",
    "    if numbers[i] > 0 and numbers[i] % 10 == 9:\n",
    "        print(f'Found number: {numbers[i]}')\n",
    "        found = True\n",
    "if not found:\n",
    "    print('Not found')"
   ]
  }
 ],
 "metadata": {
  "kernelspec": {
   "display_name": "Python 3",
   "language": "python",
   "name": "python3"
  },
  "language_info": {
   "codemirror_mode": {
    "name": "ipython",
    "version": 3
   },
   "file_extension": ".py",
   "mimetype": "text/x-python",
   "name": "python",
   "nbconvert_exporter": "python",
   "pygments_lexer": "ipython3",
   "version": "3.9.12"
  },
  "orig_nbformat": 4
 },
 "nbformat": 4,
 "nbformat_minor": 2
}
