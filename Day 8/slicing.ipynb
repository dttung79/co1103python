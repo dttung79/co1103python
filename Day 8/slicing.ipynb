{
 "cells": [
  {
   "cell_type": "code",
   "execution_count": null,
   "metadata": {},
   "outputs": [],
   "source": [
    "numbers = [1, 2, 3, 4, 5, 6, 7, 8, 9, 10]\n",
    "a = numbers[0:5]\n",
    "print(a)\n",
    "b = numbers[3:8]\n",
    "print(b)\n",
    "c = numbers[0:5:2]\n",
    "print(c)\n",
    "a = numbers[:5]\n",
    "print(a)\n",
    "c = numbers[:5:2]\n",
    "print(c)\n",
    "d = numbers[6:10]\n",
    "print(d)\n",
    "d = numbers[6:]\n",
    "print(d)\n",
    "e = numbers[5::2]\n",
    "print(e)\n",
    "f = numbers[::]\n",
    "print(f)\n",
    "g = numbers[::2]\n",
    "print(g)\n",
    "h = numbers[1::2]\n",
    "print(h)"
   ]
  },
  {
   "cell_type": "code",
   "execution_count": 13,
   "metadata": {},
   "outputs": [
    {
     "name": "stdout",
     "output_type": "stream",
     "text": [
      "[62, 87, 34, 74, 83, 95, 8, 4, 48, 15, 80, 43, 5, 19, 16, 22, 70, 49, 58, 25]\n"
     ]
    }
   ],
   "source": [
    "import random as rd\n",
    "numbers = rd.sample(range(1, 100), 20)\n",
    "print(numbers)"
   ]
  },
  {
   "cell_type": "code",
   "execution_count": 16,
   "metadata": {},
   "outputs": [
    {
     "name": "stdout",
     "output_type": "stream",
     "text": [
      "[49, 58, 25]\n",
      "[95, 8, 4, 48, 15, 80, 43, 5, 19, 16]\n",
      "[25, 58, 49, 70, 22, 16, 19, 5, 43, 80, 15, 48, 4, 8, 95, 83, 74, 34, 87, 62]\n"
     ]
    }
   ],
   "source": [
    "# get 3 last numbers\n",
    "print(numbers[-3:])\n",
    "# remove 5 first numbers, 5 last numbers\n",
    "print(numbers[5:-5])\n",
    "# reverse the list\n",
    "print(numbers[::-1])"
   ]
  }
 ],
 "metadata": {
  "kernelspec": {
   "display_name": "Python 3",
   "language": "python",
   "name": "python3"
  },
  "language_info": {
   "codemirror_mode": {
    "name": "ipython",
    "version": 3
   },
   "file_extension": ".py",
   "mimetype": "text/x-python",
   "name": "python",
   "nbconvert_exporter": "python",
   "pygments_lexer": "ipython3",
   "version": "3.9.12"
  },
  "orig_nbformat": 4
 },
 "nbformat": 4,
 "nbformat_minor": 2
}
