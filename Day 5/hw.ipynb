{
 "cells": [
  {
   "cell_type": "code",
   "execution_count": 4,
   "metadata": {},
   "outputs": [
    {
     "name": "stdout",
     "output_type": "stream",
     "text": [
      "x1 =  -0.45861873485089033\n",
      "x2 =  -6.541381265149109\n"
     ]
    }
   ],
   "source": [
    "# Solve quadratic equation\n",
    "a = int(input(\"Enter a: \"))\n",
    "b = int(input(\"Enter b: \"))\n",
    "c = int(input(\"Enter c: \"))\n",
    "\n",
    "if a == 0:\n",
    "    print(\"a cannot be 0\")\n",
    "else:\n",
    "    delta = b**2 - 4*a*c\n",
    "    if delta < 0:\n",
    "        print(\"No roots!\")\n",
    "    elif delta == 0:\n",
    "        print(\"x = \", -b/(2*a))\n",
    "    else:\n",
    "        print(\"x1 = \", (-b + delta**0.5)/(2*a))\n",
    "        print(\"x2 = \", (-b - delta**0.5)/(2*a))"
   ]
  }
 ],
 "metadata": {
  "kernelspec": {
   "display_name": "Python 3",
   "language": "python",
   "name": "python3"
  },
  "language_info": {
   "codemirror_mode": {
    "name": "ipython",
    "version": 3
   },
   "file_extension": ".py",
   "mimetype": "text/x-python",
   "name": "python",
   "nbconvert_exporter": "python",
   "pygments_lexer": "ipython3",
   "version": "3.9.12"
  },
  "orig_nbformat": 4,
  "vscode": {
   "interpreter": {
    "hash": "aee8b7b246df8f9039afb4144a1f6fd8d2ca17a180786b69acc140d282b71a49"
   }
  }
 },
 "nbformat": 4,
 "nbformat_minor": 2
}
