{
 "cells": [
  {
   "cell_type": "code",
   "execution_count": 2,
   "metadata": {},
   "outputs": [
    {
     "name": "stdout",
     "output_type": "stream",
     "text": [
      "Hello Python Python Python Python Python Python Python Python\n"
     ]
    }
   ],
   "source": [
    "print('Hello Python Python Python Python Python Python Python Python')"
   ]
  },
  {
   "cell_type": "code",
   "execution_count": null,
   "metadata": {},
   "outputs": [],
   "source": [
    "# Loop: repeat the same thing over and over again"
   ]
  },
  {
   "cell_type": "code",
   "execution_count": 4,
   "metadata": {},
   "outputs": [
    {
     "name": "stdout",
     "output_type": "stream",
     "text": [
      "Hello Python Python Python Python Python Python Python Python Python Python "
     ]
    }
   ],
   "source": [
    "print('Hello', end=' ')\n",
    "for _ in range(10):\n",
    "    print('Python', end=' ')"
   ]
  },
  {
   "cell_type": "code",
   "execution_count": 5,
   "metadata": {},
   "outputs": [
    {
     "name": "stdout",
     "output_type": "stream",
     "text": [
      "**********"
     ]
    }
   ],
   "source": [
    "for _ in range(10):\n",
    "    print('*', end='')"
   ]
  },
  {
   "cell_type": "code",
   "execution_count": 10,
   "metadata": {},
   "outputs": [
    {
     "name": "stdout",
     "output_type": "stream",
     "text": [
      "1 2 3 4 5 6 7 8 9 10 \n",
      "1 2 3 4 5 6 7 8 9 10 "
     ]
    }
   ],
   "source": [
    "for i in range(10):\n",
    "    print(i + 1, end=' ')\n",
    "print()\n",
    "for i in range(1, 11):\n",
    "    print(i, end=' ')"
   ]
  },
  {
   "cell_type": "code",
   "execution_count": null,
   "metadata": {},
   "outputs": [],
   "source": [
    "n = int(input('Enter number n: '))\n",
    "for i in range(1, 11):\n",
    "    print(f'{n:2} x {i:2} = {n * i:2}')"
   ]
  },
  {
   "cell_type": "code",
   "execution_count": null,
   "metadata": {},
   "outputs": [],
   "source": [
    "# while loop syntax:\n",
    "# while condition:\n",
    "#     body of while loop\n",
    "i = 1\n",
    "while i <= 10:\n",
    "    print(i, end=' ')\n",
    "    i = i + 1"
   ]
  },
  {
   "cell_type": "code",
   "execution_count": 17,
   "metadata": {},
   "outputs": [
    {
     "name": "stdout",
     "output_type": "stream",
     "text": [
      " 6 x  1 =  6\n",
      " 6 x  2 = 12\n",
      " 6 x  3 = 18\n",
      " 6 x  4 = 24\n",
      " 6 x  5 = 30\n",
      " 6 x  6 = 36\n",
      " 6 x  7 = 42\n",
      " 6 x  8 = 48\n",
      " 6 x  9 = 54\n",
      " 6 x 10 = 60\n"
     ]
    }
   ],
   "source": [
    "n = int(input('Enter number n: '))\n",
    "i = 1\n",
    "while i <= 10:\n",
    "    print(f'{n:2} x {i:2} = {n * i:2}')\n",
    "    i = i + 1"
   ]
  },
  {
   "cell_type": "code",
   "execution_count": null,
   "metadata": {},
   "outputs": [],
   "source": [
    "# Ask user to enter a number and print it\n",
    "# Then add it to a sum\n",
    "# Stop the program when user enter a number that <= 0\n",
    "n = 0\n",
    "s = 0\n",
    "\n",
    "while n >= 0:\n",
    "    n = int(input('Enter number: '))\n",
    "    print('Your number is', n)\n",
    "    s = s + n\n",
    "    print('Current sum is', s)"
   ]
  },
  {
   "cell_type": "code",
   "execution_count": 20,
   "metadata": {},
   "outputs": [
    {
     "name": "stdout",
     "output_type": "stream",
     "text": [
      "Hello John do you want to continue? y/n: \n"
     ]
    }
   ],
   "source": [
    "# Ask for a name, print hello\n",
    "# ask if user wants to continue\n",
    "# continue until user says no\n",
    "answer = 'y'\n",
    "while answer == 'y':\n",
    "    name = input('Enter name: ')\n",
    "    print('Hello', name, 'do you want to continue? y/n: ')\n",
    "    answer = input()"
   ]
  },
  {
   "cell_type": "code",
   "execution_count": 2,
   "metadata": {},
   "outputs": [
    {
     "name": "stdout",
     "output_type": "stream",
     "text": [
      "0 1 2 3 4 5 "
     ]
    }
   ],
   "source": [
    "for i in range(10):\n",
    "    print(i, end=' ')\n",
    "    if i == 5:\n",
    "        break"
   ]
  },
  {
   "cell_type": "code",
   "execution_count": 3,
   "metadata": {},
   "outputs": [
    {
     "name": "stdout",
     "output_type": "stream",
     "text": [
      "0 1 2 3 4 6 7 8 9 "
     ]
    }
   ],
   "source": [
    "for i in range(10):\n",
    "    if i == 5:\n",
    "        continue\n",
    "    print(i, end=' ')"
   ]
  },
  {
   "cell_type": "code",
   "execution_count": 4,
   "metadata": {},
   "outputs": [
    {
     "name": "stdout",
     "output_type": "stream",
     "text": [
      "1 3 5 7 9 "
     ]
    }
   ],
   "source": [
    "for i in range(10):\n",
    "    if i % 2 == 0:\n",
    "        continue\n",
    "    print(i, end=' ')"
   ]
  },
  {
   "cell_type": "code",
   "execution_count": 6,
   "metadata": {},
   "outputs": [
    {
     "name": "stdout",
     "output_type": "stream",
     "text": [
      "Sum is 15\n"
     ]
    }
   ],
   "source": [
    "s = 0\n",
    "for i in range(10):\n",
    "    n = int(input('Enter number: '))\n",
    "    s += n\n",
    "    ans = input('Do you want to continue? y/n: ')\n",
    "    if ans == 'n':\n",
    "        break\n",
    "print('Sum is', s)"
   ]
  },
  {
   "cell_type": "code",
   "execution_count": 8,
   "metadata": {},
   "outputs": [
    {
     "name": "stdout",
     "output_type": "stream",
     "text": [
      "Sum is 103\n"
     ]
    }
   ],
   "source": [
    "n = 0\n",
    "s = 0\n",
    "while n >= 0:\n",
    "    s += n\n",
    "    if s > 100:\n",
    "        break\n",
    "    n = int(input('Enter number: '))\n",
    "print('Sum is', s)"
   ]
  },
  {
   "cell_type": "code",
   "execution_count": 6,
   "metadata": {},
   "outputs": [
    {
     "name": "stdout",
     "output_type": "stream",
     "text": [
      "10\n",
      "100\n",
      "John\n",
      "12\n"
     ]
    }
   ],
   "source": [
    "n = 10\n",
    "print(n)\n",
    "n = 100\n",
    "print(n)\n",
    "name = input('Enter a name: ')\n",
    "print(name)\n",
    "n = int(input('Enter a number: ')) # float, boolean\n",
    "n = n + 2\n",
    "print(n)"
   ]
  },
  {
   "cell_type": "code",
   "execution_count": 11,
   "metadata": {},
   "outputs": [
    {
     "name": "stdout",
     "output_type": "stream",
     "text": [
      "True\n"
     ]
    }
   ],
   "source": [
    "a = 21\n",
    "b = 20\n",
    "b = a >= b\n",
    "print(b)"
   ]
  },
  {
   "cell_type": "code",
   "execution_count": 13,
   "metadata": {},
   "outputs": [
    {
     "name": "stdout",
     "output_type": "stream",
     "text": [
      "5\n"
     ]
    }
   ],
   "source": [
    "a = int(input('Enter a: '))\n",
    "b = int(input('Enter b: '))\n",
    "if a > b:\n",
    "    m = a\n",
    "else:\n",
    "    m = b\n",
    "print(m)"
   ]
  },
  {
   "cell_type": "code",
   "execution_count": 15,
   "metadata": {},
   "outputs": [
    {
     "name": "stdout",
     "output_type": "stream",
     "text": [
      "Fail\n"
     ]
    }
   ],
   "source": [
    "gpa = float(input('Enter gpa: '))\n",
    "if gpa >= 8.0:\n",
    "    print('Distinction')\n",
    "elif gpa >= 6.0:\n",
    "    print('Merit')\n",
    "elif gpa >= 4.0:\n",
    "    print('Pass')\n",
    "else:\n",
    "    print('Fail')"
   ]
  }
 ],
 "metadata": {
  "kernelspec": {
   "display_name": "Python 3",
   "language": "python",
   "name": "python3"
  },
  "language_info": {
   "codemirror_mode": {
    "name": "ipython",
    "version": 3
   },
   "file_extension": ".py",
   "mimetype": "text/x-python",
   "name": "python",
   "nbconvert_exporter": "python",
   "pygments_lexer": "ipython3",
   "version": "3.9.12"
  },
  "orig_nbformat": 4,
  "vscode": {
   "interpreter": {
    "hash": "aee8b7b246df8f9039afb4144a1f6fd8d2ca17a180786b69acc140d282b71a49"
   }
  }
 },
 "nbformat": 4,
 "nbformat_minor": 2
}
