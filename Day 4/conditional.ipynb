{
 "cells": [
  {
   "cell_type": "code",
   "execution_count": 6,
   "metadata": {},
   "outputs": [
    {
     "name": "stdout",
     "output_type": "stream",
     "text": [
      "3 - 8 = -5\n"
     ]
    }
   ],
   "source": [
    "# Demo conditional statements\n",
    "a = int(input(\"Enter a: \"))\n",
    "b = int(input(\"Enter b: \"))\n",
    "\n",
    "operation = input(\"Enter operation [+, -, /, //, *, %]: \")\n",
    "\n",
    "if operation == '+':\n",
    "    print(f'{a} + {b} = {a + b}')\n",
    "elif operation == '-':\n",
    "    print(f'{a} - {b} = {a - b}')\n",
    "elif operation == '/':\n",
    "    print(f'{a} / {b} = {a / b}')\n",
    "elif operation == '//':\n",
    "    print(f'{a} // {b} = {a // b}')\n",
    "elif operation == '*':\n",
    "    print(f'{a} * {b} = {a * b}')\n",
    "elif operation == '%':\n",
    "    print(f'{a} % {b} = {a % b}')\n",
    "else:\n",
    "    print('Invalid operation')"
   ]
  },
  {
   "cell_type": "code",
   "execution_count": 3,
   "metadata": {},
   "outputs": [
    {
     "name": "stdout",
     "output_type": "stream",
     "text": [
      "Saturday\n"
     ]
    }
   ],
   "source": [
    "week_day = input('Enter a day of the week in number: ')\n",
    "if week_day == '1':\n",
    "    print('Sunday')\n",
    "elif week_day == '2':\n",
    "    print('Monday')\n",
    "elif week_day == '3':\n",
    "    print('Tuesday')\n",
    "elif week_day == '4':\n",
    "    print('Wednesday')\n",
    "elif week_day == '5':\n",
    "    print('Thursday')\n",
    "elif week_day == '6':\n",
    "    print('Friday')\n",
    "elif week_day == '7':\n",
    "    print('Saturday')\n",
    "else:\n",
    "    print('Invalid day')"
   ]
  },
  {
   "cell_type": "code",
   "execution_count": null,
   "metadata": {},
   "outputs": [],
   "source": [
    "# Exercise 1: \n",
    "# Ask the user to enter the name of the product\n",
    "# then the price of the product.\n",
    "# then the number of items purchased.\n",
    "# then ask if the user is a VIP member.\n",
    "# then calulate the total price, reduce the price by 10% if the user is a VIP member.\n",
    "\n",
    "# finally print all the information (name of product, price, number of items, \n",
    "# total price)"
   ]
  },
  {
   "cell_type": "code",
   "execution_count": 4,
   "metadata": {},
   "outputs": [
    {
     "name": "stdout",
     "output_type": "stream",
     "text": [
      "Product name:             Computer\n",
      "Price       :              1000.00\n",
      "Quantity    :                    2\n",
      "Payment     :              1800.00\n"
     ]
    }
   ],
   "source": [
    "name = input('Enter the name of the product: ')\n",
    "price = float(input('Enter the price of the product: '))\n",
    "quantity = int(input('Enter the number of items purchased: '))\n",
    "\n",
    "vip = input('Are you a VIP member? (y/n): ')\n",
    "\n",
    "payment = price * quantity\n",
    "if vip == 'y':\n",
    "    payment *= 0.9 # short for payment = payment * 0.9\n",
    "\n",
    "print(f'Product name: {name:>20s}')\n",
    "print(f'Price       : {price:>20.2f}')\n",
    "print(f'Quantity    : {quantity:>20d}')\n",
    "print(f'Payment     : {payment:>20.2f}')\n"
   ]
  },
  {
   "cell_type": "code",
   "execution_count": 7,
   "metadata": {},
   "outputs": [
    {
     "name": "stdout",
     "output_type": "stream",
     "text": [
      "ChatGPT for Valentine Day\n",
      "I don't know what to buy\n",
      "Happy Valentine Day\n"
     ]
    }
   ],
   "source": [
    "print('ChatGPT for Valentine Day')\n",
    "gender = input('What is the gender of your partner? (m/f): ')\n",
    "if gender == 'f':\n",
    "    gift = input('What does she like (shoes or bag): ')\n",
    "    if gift == 'shoes':\n",
    "        price = 5000000\n",
    "    elif gift == 'bag':\n",
    "        price = 10000000\n",
    "    else:\n",
    "        price = 0\n",
    "else:\n",
    "    gift = input('What does he like (PS4 or PS5): ')\n",
    "    if gift == 'PS4':\n",
    "        price = 5000000\n",
    "    elif gift == 'PS5':\n",
    "        price = 10000000\n",
    "    else:\n",
    "        price = 0\n",
    "if price == 0:\n",
    "    print('I don\\'t know what to buy')\n",
    "else:\n",
    "    price('You need to pay ${price}')\n",
    "\n",
    "print('Happy Valentine Day')"
   ]
  }
 ],
 "metadata": {
  "kernelspec": {
   "display_name": "Python 3",
   "language": "python",
   "name": "python3"
  },
  "language_info": {
   "codemirror_mode": {
    "name": "ipython",
    "version": 3
   },
   "file_extension": ".py",
   "mimetype": "text/x-python",
   "name": "python",
   "nbconvert_exporter": "python",
   "pygments_lexer": "ipython3",
   "version": "3.9.12"
  },
  "orig_nbformat": 4,
  "vscode": {
   "interpreter": {
    "hash": "aee8b7b246df8f9039afb4144a1f6fd8d2ca17a180786b69acc140d282b71a49"
   }
  }
 },
 "nbformat": 4,
 "nbformat_minor": 2
}
