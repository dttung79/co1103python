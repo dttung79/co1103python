{
 "cells": [
  {
   "cell_type": "code",
   "execution_count": null,
   "metadata": {},
   "outputs": [],
   "source": [
    "# Write a Python program that accepts a sequence of lines (blank line to terminate) as input \n",
    "# and prints the lines as output (all characters in lower case)"
   ]
  },
  {
   "cell_type": "code",
   "execution_count": 3,
   "metadata": {},
   "outputs": [
    {
     "name": "stdout",
     "output_type": "stream",
     "text": [
      "hello\n",
      "hello python\n",
      "any message\n",
      "Ends.\n"
     ]
    }
   ],
   "source": [
    "line = 'not blank'\n",
    "while line != '':\n",
    "    line = input('Enter a line: ')\n",
    "    if (line != ''):\n",
    "        print(line.lower())\n",
    "\n",
    "print('Ends.')"
   ]
  },
  {
   "cell_type": "code",
   "execution_count": null,
   "metadata": {},
   "outputs": [],
   "source": [
    "line = 'not blank'\n",
    "not_blank = True\n",
    "\n",
    "while not_blank:\n",
    "    line = input('Enter a line: ')\n",
    "    if (line == ''):\n",
    "        not_blank = False\n",
    "    else:\n",
    "        print(line.lower())"
   ]
  },
  {
   "cell_type": "code",
   "execution_count": null,
   "metadata": {},
   "outputs": [],
   "source": [
    "a = b = c = 1\n",
    "one_side_negative = True\n",
    "sum_2sides_lessthan_other = True\n",
    "while one_side_negative and sum_2sides_lessthan_other:\n",
    "    a = int(input('Enter a: '))\n",
    "    b = int(input('Enter b: '))\n",
    "    c = int(input('Enter c: '))\n",
    "    one_side_negative = (a <= 0) or (b <= 0) or (c <= 0)\n",
    "    sum_2sides_lessthan_other = (a + b <= c) or (a + c <= b) or (b + c <= a)\n",
    "    if one_side_negative or sum_2sides_lessthan_other:\n",
    "        print('Invalid input. Try again.')\n",
    "    else:\n",
    "        p = (a + b + c) / 2\n",
    "        area = (p * (p - a) * (p - b) * (p - c)) ** 0.5"
   ]
  },
  {
   "cell_type": "code",
   "execution_count": null,
   "metadata": {},
   "outputs": [],
   "source": [
    "# Write a 'fake' password generating program. \n",
    "# The program tell user that it will generate a difficult password \n",
    "# then ask user for the length of the password. \n",
    "# And then print out corresponding number of asterisk symbols. \n",
    "# For example, if user enters number 5, the program will print ***** and says here is your password."
   ]
  },
  {
   "cell_type": "code",
   "execution_count": 7,
   "metadata": {},
   "outputs": [
    {
     "name": "stdout",
     "output_type": "stream",
     "text": [
      "Password generator. Please enter the length of the password: \n",
      "Here is your password: \n",
      "*******"
     ]
    }
   ],
   "source": [
    "generating = True\n",
    "while generating:\n",
    "    print('Password generator. Please enter the length of the password: ')\n",
    "    n = int(input())\n",
    "    print('Here is your password: ')\n",
    "    for i in range(n):\n",
    "        print('*', end='')\n",
    "    \n",
    "    answer = input('Are you happy with the password? (y/n): ')\n",
    "    generating = (answer == 'n')"
   ]
  },
  {
   "cell_type": "code",
   "execution_count": 9,
   "metadata": {},
   "outputs": [
    {
     "name": "stdout",
     "output_type": "stream",
     "text": [
      "4 is a lucky number.\n",
      "7 is a lucky number.\n",
      "You have 10 rewards.\n"
     ]
    }
   ],
   "source": [
    "choosing = True\n",
    "rewards = 0\n",
    "LUCKY_NUMBER1 = 4\n",
    "LUCKY_NUMBER2 = 7\n",
    "RERWARD_POINT = 5\n",
    "\n",
    "while choosing:\n",
    "    n = int(input('Enter a number: '))\n",
    "    if n % LUCKY_NUMBER1 == 0 or n % LUCKY_NUMBER2 == 0:\n",
    "        rewards += RERWARD_POINT\n",
    "        print(f'{n} is a lucky number.')\n",
    "    answer = input('Continue (y/n): ')\n",
    "    choosing = (answer.lower() == 'y')\n",
    "\n",
    "print(f'You have {rewards} rewards.')"
   ]
  },
  {
   "cell_type": "code",
   "execution_count": 16,
   "metadata": {},
   "outputs": [
    {
     "name": "stdout",
     "output_type": "stream",
     "text": [
      "* * * * * * \n",
      "* * * * * * \n",
      "* * * * * * \n",
      "* * * * * * \n",
      "* * * * * * \n",
      "* * * * * * \n"
     ]
    }
   ],
   "source": [
    "# Print a square of asterisks with side length n.\n",
    "n = int(input('Enter length of a square: '))\n",
    "for _ in range(n):\n",
    "    for _ in range(n):\n",
    "        print('* ', end='')\n",
    "    print()"
   ]
  },
  {
   "cell_type": "code",
   "execution_count": 17,
   "metadata": {},
   "outputs": [
    {
     "name": "stdout",
     "output_type": "stream",
     "text": [
      "* * \n",
      "* * \n",
      "* * \n",
      "* * \n",
      "* * \n"
     ]
    }
   ],
   "source": [
    "# Print a rectangle of asterisks with width n and height m.\n",
    "n = int(input('Enter width of a rectangle: '))\n",
    "m = int(input('Enter height of a rectangle: '))\n",
    "for _ in range(m):\n",
    "    for _ in range(n):\n",
    "        print('* ', end='')\n",
    "    print()"
   ]
  },
  {
   "cell_type": "code",
   "execution_count": 18,
   "metadata": {},
   "outputs": [
    {
     "name": "stdout",
     "output_type": "stream",
     "text": [
      "* \n",
      "* * \n",
      "* * * \n",
      "* * * * \n",
      "* * * * * \n"
     ]
    }
   ],
   "source": [
    "n = int(input('Enter height of a triangle: '))\n",
    "for i in range(n):\n",
    "    for j in range(i+1):\n",
    "        print('* ', end='')\n",
    "    print()"
   ]
  },
  {
   "cell_type": "code",
   "execution_count": 21,
   "metadata": {},
   "outputs": [
    {
     "name": "stdout",
     "output_type": "stream",
     "text": [
      "* * * * * \n",
      "* * * * \n",
      "* * * \n",
      "* * \n",
      "* \n"
     ]
    }
   ],
   "source": [
    "for i in range(n, 0, -1):\n",
    "    for _ in range(i):\n",
    "        print('* ', end='')\n",
    "    print()"
   ]
  },
  {
   "cell_type": "code",
   "execution_count": 22,
   "metadata": {},
   "outputs": [
    {
     "name": "stdout",
     "output_type": "stream",
     "text": [
      "1\n",
      "22\n",
      "333\n",
      "4444\n",
      "55555\n"
     ]
    }
   ],
   "source": [
    "for i in range(n):\n",
    "    for j in range(i + 1):\n",
    "        print(i+1, end='')\n",
    "    print()"
   ]
  }
 ],
 "metadata": {
  "kernelspec": {
   "display_name": "Python 3",
   "language": "python",
   "name": "python3"
  },
  "language_info": {
   "codemirror_mode": {
    "name": "ipython",
    "version": 3
   },
   "file_extension": ".py",
   "mimetype": "text/x-python",
   "name": "python",
   "nbconvert_exporter": "python",
   "pygments_lexer": "ipython3",
   "version": "3.9.12"
  },
  "orig_nbformat": 4,
  "vscode": {
   "interpreter": {
    "hash": "aee8b7b246df8f9039afb4144a1f6fd8d2ca17a180786b69acc140d282b71a49"
   }
  }
 },
 "nbformat": 4,
 "nbformat_minor": 2
}
