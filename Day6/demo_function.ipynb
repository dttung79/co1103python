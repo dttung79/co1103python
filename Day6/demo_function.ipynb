{
 "cells": [
  {
   "cell_type": "code",
   "execution_count": null,
   "metadata": {},
   "outputs": [],
   "source": [
    "# Declare a function\n",
    "def say_hi(name):\n",
    "    print(f'Hi, {name}!')\n",
    "\n",
    "\n",
    "# Use the function by calling it\n",
    "say_hi('John')  # Call function, pass value 'John' to the function\n",
    "say_hi('Mary')  # Call function, pass value 'Mary' to the function\n",
    "\n",
    "name = input('What is your name? ') \n",
    "say_hi(name)    # Call function, pass value of variable name to the function"
   ]
  },
  {
   "cell_type": "code",
   "execution_count": null,
   "metadata": {},
   "outputs": [],
   "source": [
    "def calculate_max(a, b):\n",
    "    if a > b:\n",
    "        return a\n",
    "    else:\n",
    "        return b\n",
    "\n",
    "a = 5\n",
    "b = 10\n",
    "c = calculate_max(a, b)     # Call function, store the output in variable c\n",
    "print(c)\n",
    "print(calculate_max(a, b))  # Call function, pass the output to print function"
   ]
  },
  {
   "cell_type": "code",
   "execution_count": 1,
   "metadata": {},
   "outputs": [
    {
     "name": "stdout",
     "output_type": "stream",
     "text": [
      "5 + 10 = 15\n",
      "7 - 3 = 4\n"
     ]
    }
   ],
   "source": [
    "def do_math(a, b, operator):\n",
    "    if operator == '+':\n",
    "        print(f'{a} + {b} = {a + b}')\n",
    "    elif operator == '-':\n",
    "        print(f'{a} - {b} = {a - b}')\n",
    "    elif operator == '*':\n",
    "        print(f'{a} * {b} = {a * b}')\n",
    "    elif operator == '/':\n",
    "        print(f'{a} / {b} = {a / b}')\n",
    "    else:\n",
    "        print('Operator is not supported')\n",
    "\n",
    "do_math(5, 10, '+')\n",
    "do_math(7, 3, '-')"
   ]
  },
  {
   "cell_type": "code",
   "execution_count": 2,
   "metadata": {},
   "outputs": [
    {
     "name": "stdout",
     "output_type": "stream",
     "text": [
      "4 + 5 = 9\n",
      "10 * 5 = 50\n",
      "Operator is not supported\n"
     ]
    }
   ],
   "source": [
    "valid_operator = True\n",
    "while valid_operator:\n",
    "    a = int(input('Enter a: '))\n",
    "    b = int(input('Enter b: '))\n",
    "    op = input('Enter operator (+, -, *, /): ')\n",
    "    do_math(a, b, op)\n",
    "    valid_operator = op in ['+', '-', '*', '/']"
   ]
  },
  {
   "cell_type": "code",
   "execution_count": 13,
   "metadata": {},
   "outputs": [],
   "source": [
    "# A function to print n asterisks in a row\n",
    "def print_asterisk_row(n, c='*'):\n",
    "    for _ in range(n):\n",
    "        print(c, end=' ')\n",
    "    print()"
   ]
  },
  {
   "cell_type": "code",
   "execution_count": 15,
   "metadata": {},
   "outputs": [
    {
     "name": "stdout",
     "output_type": "stream",
     "text": [
      "* * * * \n",
      "* * * * \n",
      "* * * * \n",
      "* * * * \n",
      "Print rectangle of dollar signs\n",
      "$ $ $ $ $ $ \n",
      "$ $ $ $ $ $ \n",
      "$ $ $ $ $ $ \n",
      "$ $ $ $ $ $ \n",
      "Print triangle of ? signs\n",
      "? \n",
      "? ? \n",
      "? ? ? \n",
      "? ? ? ? \n",
      "Print reverse triangle of @ signs\n",
      "@ @ @ @ \n",
      "@ @ @ \n",
      "@ @ \n",
      "@ \n"
     ]
    }
   ],
   "source": [
    "# Print square of asterisks\n",
    "n = 4\n",
    "for _ in range(n):\n",
    "    print_asterisk_row(n)\n",
    "print('Print rectangle of dollar signs')\n",
    "n = 4\n",
    "m = 6\n",
    "for _ in range(n):\n",
    "    print_asterisk_row(m, '$')\n",
    "\n",
    "print('Print triangle of ? signs')\n",
    "for i in range(n):\n",
    "    print_asterisk_row(i + 1, '?')\n",
    "\n",
    "print('Print reverse triangle of @ signs')\n",
    "for i in range(n, 0, -1):\n",
    "    print_asterisk_row(i, '@')"
   ]
  }
 ],
 "metadata": {
  "kernelspec": {
   "display_name": "Python 3",
   "language": "python",
   "name": "python3"
  },
  "language_info": {
   "codemirror_mode": {
    "name": "ipython",
    "version": 3
   },
   "file_extension": ".py",
   "mimetype": "text/x-python",
   "name": "python",
   "nbconvert_exporter": "python",
   "pygments_lexer": "ipython3",
   "version": "3.9.12"
  },
  "orig_nbformat": 4,
  "vscode": {
   "interpreter": {
    "hash": "aee8b7b246df8f9039afb4144a1f6fd8d2ca17a180786b69acc140d282b71a49"
   }
  }
 },
 "nbformat": 4,
 "nbformat_minor": 2
}
