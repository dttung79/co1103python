{
 "cells": [
  {
   "cell_type": "code",
   "execution_count": 2,
   "metadata": {},
   "outputs": [
    {
     "name": "stdout",
     "output_type": "stream",
     "text": [
      "Banana\n",
      "Apple\n",
      "Mago\n",
      "Score: 3\n"
     ]
    }
   ],
   "source": [
    "# Exercise 4\n",
    "fruit_list = []\n",
    "\n",
    "fruit_repeated = False\n",
    "fruit_empty = False\n",
    "\n",
    "while not fruit_repeated and not fruit_empty:\n",
    "    fruit = input('Enter a fruit: ')\n",
    "    fruit_empty = fruit == ''\n",
    "    fruit_repeated = fruit.title() in fruit_list\n",
    "    if not fruit_empty and not fruit_repeated:\n",
    "        fruit_list.append(fruit.title())\n",
    "\n",
    "for fruit in fruit_list:\n",
    "    print(fruit)\n",
    "    \n",
    "print(f'Score: {len(fruit_list)}')"
   ]
  },
  {
   "cell_type": "code",
   "execution_count": 3,
   "metadata": {},
   "outputs": [
    {
     "name": "stdout",
     "output_type": "stream",
     "text": [
      "[29, 94, 1, 58, 14, 33, 78, 98, 36, 77]\n",
      "[29, 1, 14, 78, 36]\n",
      "[94, 58, 33, 98, 77]\n"
     ]
    }
   ],
   "source": [
    "# Exercise 7\n",
    "def even(numbers):\n",
    "    return numbers[::2]\n",
    "\n",
    "def odd(numbers):\n",
    "    return numbers[1::2]\n",
    "\n",
    "import random as rd\n",
    "numbers = rd.sample(range(1, 100), 10)\n",
    "print(numbers)\n",
    "print(even(numbers))\n",
    "print(odd(numbers))"
   ]
  }
 ],
 "metadata": {
  "kernelspec": {
   "display_name": "Python 3",
   "language": "python",
   "name": "python3"
  },
  "language_info": {
   "codemirror_mode": {
    "name": "ipython",
    "version": 3
   },
   "file_extension": ".py",
   "mimetype": "text/x-python",
   "name": "python",
   "nbconvert_exporter": "python",
   "pygments_lexer": "ipython3",
   "version": "3.9.12"
  },
  "orig_nbformat": 4
 },
 "nbformat": 4,
 "nbformat_minor": 2
}
