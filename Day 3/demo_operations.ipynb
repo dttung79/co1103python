{
 "cells": [
  {
   "cell_type": "code",
   "execution_count": 4,
   "metadata": {},
   "outputs": [
    {
     "name": "stdout",
     "output_type": "stream",
     "text": [
      "Hello World\n",
      "hellohellohellohellohellohellohellohellohellohello\n"
     ]
    }
   ],
   "source": [
    "# string operations: +\n",
    "a = 'Hello'\n",
    "b = 'World'\n",
    "c = a + ' ' + b\n",
    "print(c)\n",
    "# string operations: *\n",
    "d = 'hello' * 10\n",
    "print(d)"
   ]
  },
  {
   "cell_type": "code",
   "execution_count": 5,
   "metadata": {},
   "outputs": [
    {
     "name": "stdout",
     "output_type": "stream",
     "text": [
      "Hello John Lennon\n"
     ]
    }
   ],
   "source": [
    "first_name = input('Enter your first name: ')\n",
    "last_name = input('Enter your last name: ')\n",
    "full_name = first_name + ' ' + last_name\n",
    "print('Hello', full_name)"
   ]
  },
  {
   "cell_type": "code",
   "execution_count": 13,
   "metadata": {},
   "outputs": [
    {
     "name": "stdout",
     "output_type": "stream",
     "text": [
      "5 + 2 = 7\n",
      "5 - 2 = 3\n",
      "5 * 2 = 10\n",
      "5 / 2 = 2.5 <class 'float'>\n",
      "5 // 2 = 2 <class 'int'>\n",
      "5 % 2 = 1\n",
      "5 ^ 2 = 25\n"
     ]
    }
   ],
   "source": [
    "# Arithmetic operations: +, -, *, /, //, %, **\n",
    "a = 5\n",
    "b = 2\n",
    "\n",
    "# Addition\n",
    "c = a + b\n",
    "print(a, '+', b, '=', c)\n",
    "# Subtraction\n",
    "c = a - b\n",
    "print(a, '-', b, '=', c)\n",
    "# Multiplication\n",
    "c = a * b\n",
    "print(a, '*', b, '=', c)\n",
    "# True Division\n",
    "c = a / b\n",
    "print(a, '/', b, '=', c, type(c))\n",
    "# Floor Division\n",
    "c = a // b\n",
    "print(a, '//', b, '=', c, type(c))\n",
    "# Modulus: getting the remainder of the floor division\n",
    "c = a % b\n",
    "print(a, '%', b, '=', c)\n",
    "# Exponentiation\n",
    "c = a ** b\n",
    "print(a, '^', b, '=', c)"
   ]
  },
  {
   "cell_type": "code",
   "execution_count": 14,
   "metadata": {},
   "outputs": [
    {
     "name": "stdout",
     "output_type": "stream",
     "text": [
      "The other side of the triangle is 5.0\n"
     ]
    }
   ],
   "source": [
    "# Calculate the other side of a right triangle\n",
    "a = 3\n",
    "b = 4\n",
    "c = (a ** 2 + b ** 2) ** 0.5\n",
    "print('The other side of the triangle is', c)"
   ]
  },
  {
   "cell_type": "code",
   "execution_count": 15,
   "metadata": {},
   "outputs": [
    {
     "name": "stdout",
     "output_type": "stream",
     "text": [
      "Math grade: 8.0\n",
      "Science grade: 7.3\n",
      "English grade: 7.4\n",
      "Average: 7.566666666666667\n"
     ]
    }
   ],
   "source": [
    "# Exercise 1: Enter 3 grades (math, science, english) and calculate the average\n",
    "# Print all grades and the average\n",
    "math = float(input('Enter your math grade: '))\n",
    "science = float(input('Enter your science grade: '))\n",
    "english = float(input('Enter your english grade: '))\n",
    "average = (math + science + english) / 3\n",
    "print('Math grade:', math)\n",
    "print('Science grade:', science)\n",
    "print('English grade:', english)\n",
    "print('Average:', average)"
   ]
  },
  {
   "cell_type": "code",
   "execution_count": 17,
   "metadata": {},
   "outputs": [
    {
     "name": "stdout",
     "output_type": "stream",
     "text": [
      "Side a: 1.0\n",
      "Side b: 1.0\n",
      "Side c: 10.0\n",
      "Area: (1.4998798865218462e-15+24.49489742783178j)\n"
     ]
    }
   ],
   "source": [
    "# Exercise 2: Enter 3 sides of a triangle and calculate the area\n",
    "# Print all sides and the area\n",
    "a = float(input('Enter side a: '))\n",
    "b = float(input('Enter side b: '))\n",
    "c = float(input('Enter side c: '))\n",
    "p = (a + b + c) / 2\n",
    "s = (p * (p - a) * (p - b) * (p - c)) ** 0.5 # Heron's formula\n",
    "print('Side a:', a)\n",
    "print('Side b:', b)\n",
    "print('Side c:', c)\n",
    "print('Area:', s)"
   ]
  },
  {
   "cell_type": "code",
   "execution_count": 26,
   "metadata": {},
   "outputs": [
    {
     "name": "stdout",
     "output_type": "stream",
     "text": [
      "|Hello World|\n",
      "|Hello World         |\n",
      "|         Hello World|\n",
      "|    Hello World     |\n",
      "|Hello World         |\n",
      "|             3.14159|\n"
     ]
    }
   ],
   "source": [
    "# Format ouput\n",
    "# Number of reserved spaces & alignment\n",
    "s = 'Hello World'\n",
    "print(f'|{s}|')\n",
    "print(f'|{s:20}|') # reserved 20 spaces to print the string s\n",
    "# align right\n",
    "print(f'|{s:>20}|')\n",
    "# align center\n",
    "print(f'|{s:^20}|')\n",
    "# align left\n",
    "print(f'|{s:<20}|')\n",
    "# For floating numbers\n",
    "PI = 3.141592653589793\n",
    "print(f'|{PI:>20.5f}|') # 20 spaces to print PI, of which 5 are reserved for the decimal part"
   ]
  },
  {
   "cell_type": "code",
   "execution_count": null,
   "metadata": {},
   "outputs": [],
   "source": [
    "# Redo Exercise 1 with formatted output\n",
    "# Output should look like this:\n",
    "# Math grade:       8.0\n",
    "# Science grade:    7.3\n",
    "# English grade:    7.4\n",
    "# Average:         7.56"
   ]
  },
  {
   "cell_type": "code",
   "execution_count": 28,
   "metadata": {},
   "outputs": [
    {
     "name": "stdout",
     "output_type": "stream",
     "text": [
      "Math grade:          8.00\n"
     ]
    }
   ],
   "source": [
    "# example for math grade:\n",
    "print('{:15s}{:10.2f}'.format('Math grade:', math))"
   ]
  },
  {
   "cell_type": "code",
   "execution_count": null,
   "metadata": {},
   "outputs": [],
   "source": [
    "# Exercise 3.\n",
    "# Write a small program that asks the user for the following information:\n",
    "# Movie title\n",
    "# Adult ticket price\n",
    "# Child ticket price\n",
    "# Number of adult tickets sold\n",
    "# Number of child tickets sold\n",
    "# Calculate the total revenue then print net income and tax value (assume 10% tax)\n",
    "# Output should look like this:\n",
    "# Movie title:                       Avengers: Endgame\n",
    "# Adult ticket price:                           10.00$\n",
    "# Child ticket price:                            5.00$\n",
    "# Number of adult tickets sold:                    100\n",
    "# Number of child tickets sold:                    200\n",
    "# Total revenue:                              2500.00$\n",
    "# Net income:                                 2250.00$\n",
    "# Tax value:                                   250.00$"
   ]
  },
  {
   "cell_type": "code",
   "execution_count": 29,
   "metadata": {},
   "outputs": [],
   "source": [
    "movie_title = input('Enter the movie title: ')\n",
    "adult_price = float(input('Enter the adult ticket price: '))\n",
    "child_price = float(input('Enter the child ticket price: '))\n",
    "adult_sold = int(input('Enter the number of adult tickets sold: '))\n",
    "child_sold = int(input('Enter the number of child tickets sold: '))"
   ]
  },
  {
   "cell_type": "code",
   "execution_count": 34,
   "metadata": {},
   "outputs": [
    {
     "name": "stdout",
     "output_type": "stream",
     "text": [
      "Movie title:                     Avengers: Endgame\n",
      "Adult ticket price:                         10.00$\n",
      "Child ticket price:                          5.00$\n",
      "Number of adult tickets sold:                  100\n",
      "Number of child tickets sold:                  200\n",
      "Total revenue:                            2000.00$\n",
      "Net income:                               1800.00$\n",
      "Tax value:                                 200.00$\n"
     ]
    }
   ],
   "source": [
    "total_revenue = adult_price * adult_sold + child_price * child_sold\n",
    "tax_value = total_revenue * 0.1\n",
    "net_income = total_revenue - tax_value\n",
    "\n",
    "print('{:30s}{:>20s}'.format('Movie title:', movie_title))\n",
    "print('{:30s}{:>19.2f}$'.format('Adult ticket price:', adult_price))\n",
    "print('{:30s}{:>19.2f}$'.format('Child ticket price:', child_price))\n",
    "print('{:30s}{:>20d}'.format('Number of adult tickets sold:', adult_sold))\n",
    "print('{:30s}{:>20d}'.format('Number of child tickets sold:', child_sold))\n",
    "print('{:30s}{:>19.2f}$'.format('Total revenue:', total_revenue))\n",
    "print('{:30s}{:>19.2f}$'.format('Net income:', net_income))\n",
    "print('{:30s}{:>19.2f}$'.format('Tax value:', tax_value))"
   ]
  }
 ],
 "metadata": {
  "kernelspec": {
   "display_name": "Python 3",
   "language": "python",
   "name": "python3"
  },
  "language_info": {
   "codemirror_mode": {
    "name": "ipython",
    "version": 3
   },
   "file_extension": ".py",
   "mimetype": "text/x-python",
   "name": "python",
   "nbconvert_exporter": "python",
   "pygments_lexer": "ipython3",
   "version": "3.9.12"
  },
  "orig_nbformat": 4,
  "vscode": {
   "interpreter": {
    "hash": "aee8b7b246df8f9039afb4144a1f6fd8d2ca17a180786b69acc140d282b71a49"
   }
  }
 },
 "nbformat": 4,
 "nbformat_minor": 2
}
