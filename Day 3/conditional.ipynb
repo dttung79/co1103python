{
 "cells": [
  {
   "cell_type": "code",
   "execution_count": null,
   "metadata": {},
   "outputs": [],
   "source": [
    "a = int(input('Enter a: '))\n",
    "b = int(input('Enter b: '))\n",
    "\n",
    "if a > b:\n",
    "    m = a\n",
    "else:\n",
    "    m = b\n",
    "\n",
    "print('The maximum is', m)"
   ]
  },
  {
   "cell_type": "code",
   "execution_count": null,
   "metadata": {},
   "outputs": [],
   "source": [
    "math = float(input('Enter your math grade: '))\n",
    "science = float(input('Enter your science grade: '))\n",
    "english = float(input('Enter your english grade: '))\n",
    "average = (math + science + english) / 3\n",
    "print('Math grade:', math)\n",
    "print('Science grade:', science)\n",
    "print('English grade:', english)\n",
    "print('Average:', average)\n",
    "if average >= 8.0:\n",
    "    print('Distinction')\n",
    "elif average >= 6.5:\n",
    "    print('Merit')\n",
    "elif average >= 4.0:\n",
    "    print('Pass')\n",
    "else:\n",
    "    print('Fail')"
   ]
  },
  {
   "cell_type": "code",
   "execution_count": null,
   "metadata": {},
   "outputs": [],
   "source": [
    "a = -5\n",
    "if a > 0:\n",
    "    print('a is positive')\n",
    "    print(a)"
   ]
  },
  {
   "cell_type": "code",
   "execution_count": null,
   "metadata": {},
   "outputs": [],
   "source": [
    "# Enter 3 sides of a triangle\n",
    "# Check if all sides > 0\n",
    "# Check if sum of any 2 sides > 3rd side\n",
    "# If all conditions are met, print 'Valid triangle'\n",
    "# Otherwise, print 'Invalid triangle'"
   ]
  },
  {
   "cell_type": "code",
   "execution_count": 8,
   "metadata": {},
   "outputs": [
    {
     "name": "stdout",
     "output_type": "stream",
     "text": [
      "a = 3.0 b = 4.0 c = 5.0\n",
      "Valid triangle\n"
     ]
    }
   ],
   "source": [
    "a = float(input('Enter a: '))\n",
    "b = float(input('Enter b: '))\n",
    "c = float(input('Enter c: '))\n",
    "print('a =', a, 'b =', b, 'c =', c)\n",
    "if a > 0 and b > 0 and c > 0 and a + b > c and a + c > b and b + c > a:\n",
    "    print('Valid triangle')\n",
    "else:\n",
    "    print('Invalid triangle')"
   ]
  }
 ],
 "metadata": {
  "kernelspec": {
   "display_name": "Python 3",
   "language": "python",
   "name": "python3"
  },
  "language_info": {
   "codemirror_mode": {
    "name": "ipython",
    "version": 3
   },
   "file_extension": ".py",
   "mimetype": "text/x-python",
   "name": "python",
   "nbconvert_exporter": "python",
   "pygments_lexer": "ipython3",
   "version": "3.9.12"
  },
  "orig_nbformat": 4,
  "vscode": {
   "interpreter": {
    "hash": "aee8b7b246df8f9039afb4144a1f6fd8d2ca17a180786b69acc140d282b71a49"
   }
  }
 },
 "nbformat": 4,
 "nbformat_minor": 2
}
