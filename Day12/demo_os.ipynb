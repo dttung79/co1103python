{
 "cells": [
  {
   "cell_type": "code",
   "execution_count": null,
   "metadata": {},
   "outputs": [],
   "source": [
    "import os\n",
    "print(os.curdir)\n",
    "print(os.pardir)"
   ]
  },
  {
   "cell_type": "code",
   "execution_count": null,
   "metadata": {},
   "outputs": [],
   "source": [
    "files = os.listdir(os.curdir)\n",
    "for f in files:\n",
    "    print(f)"
   ]
  },
  {
   "cell_type": "code",
   "execution_count": null,
   "metadata": {},
   "outputs": [],
   "source": [
    "files = os.listdir(os.pardir)\n",
    "for f in files:\n",
    "    if os.path.isdir(os.pardir + '/' + f):\n",
    "        print(f)"
   ]
  },
  {
   "cell_type": "code",
   "execution_count": null,
   "metadata": {},
   "outputs": [],
   "source": [
    "dir_name = input('Enter directory to list: ')\n",
    "files = os.listdir(dir_name)\n",
    "for f in files:\n",
    "    if os.path.isdir(dir_name + '/' + f):\n",
    "        print(f'+ {f}')\n",
    "    else:\n",
    "        print(f'- {f}')"
   ]
  },
  {
   "cell_type": "code",
   "execution_count": 13,
   "metadata": {},
   "outputs": [],
   "source": [
    "def print_directory(dir_name):\n",
    "    try:\n",
    "        files = os.listdir(dir_name)\n",
    "        for f in files:\n",
    "            if os.path.isdir(dir_name + '/' + f):\n",
    "                print(f'+ {f}')\n",
    "                print_directory(dir_name + '/' + f)\n",
    "            else:\n",
    "                print(f'- {f}')\n",
    "    except FileNotFoundError:\n",
    "        print('Directory not found')"
   ]
  },
  {
   "cell_type": "code",
   "execution_count": null,
   "metadata": {},
   "outputs": [],
   "source": [
    "dir_name = '/Volumes/GoogleDrive/My Drive/FPTU/Program 3+0/COMP1753/Material'\n",
    "print_directory(dir_name)"
   ]
  }
 ],
 "metadata": {
  "kernelspec": {
   "display_name": "Python 3",
   "language": "python",
   "name": "python3"
  },
  "language_info": {
   "codemirror_mode": {
    "name": "ipython",
    "version": 3
   },
   "file_extension": ".py",
   "mimetype": "text/x-python",
   "name": "python",
   "nbconvert_exporter": "python",
   "pygments_lexer": "ipython3",
   "version": "3.9.12"
  },
  "orig_nbformat": 4
 },
 "nbformat": 4,
 "nbformat_minor": 2
}
