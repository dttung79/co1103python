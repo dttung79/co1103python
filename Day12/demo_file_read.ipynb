{
 "cells": [
  {
   "cell_type": "code",
   "execution_count": null,
   "metadata": {},
   "outputs": [],
   "source": [
    "try:\n",
    "    file_name = 'pro_languages.txt'\n",
    "    f = open(file_name)\n",
    "    contents = f.read()\n",
    "    print(type(contents))\n",
    "    languages = contents.split()\n",
    "    print(type(languages))\n",
    "    for lan in languages:\n",
    "        print(lan, type(lan))\n",
    "except FileNotFoundError:\n",
    "    print(f'File {file_name} not found.')"
   ]
  },
  {
   "cell_type": "code",
   "execution_count": 16,
   "metadata": {},
   "outputs": [
    {
     "name": "stdout",
     "output_type": "stream",
     "text": [
      "There are 304 words in article.txt.\n"
     ]
    }
   ],
   "source": [
    "file_name = input('Enter file name: ')\n",
    "try:\n",
    "    f = open(file_name, encoding='utf-8')\n",
    "    contents = f.read()\n",
    "    n_words = len(contents.split())\n",
    "    print(f'There are {n_words} words in {file_name}.')\n",
    "except FileNotFoundError:\n",
    "    print(f'File {file_name} not found.')"
   ]
  },
  {
   "cell_type": "code",
   "execution_count": 20,
   "metadata": {},
   "outputs": [
    {
     "name": "stdout",
     "output_type": "stream",
     "text": [
      "There are 8 lines in article.txt.\n",
      "There are 304 words in article.txt.\n"
     ]
    }
   ],
   "source": [
    "file_name = input('Enter file name: ')\n",
    "try:\n",
    "    f = open(file_name, encoding='utf-8')\n",
    "    # read all lines of the file into a list\n",
    "    lines = f.readlines()\n",
    "    print(f'There are {len(lines)} lines in {file_name}.')\n",
    "    \n",
    "    n_words_total = 0\n",
    "    for line in lines:\n",
    "        n_words_line = len(line.split()) # count words in each line\n",
    "        n_words_total += n_words_line    # add to total\n",
    "    \n",
    "    print(f'There are {n_words_total} words in {file_name}.')\n",
    "except FileNotFoundError:\n",
    "    print(f'File {file_name} not found.')"
   ]
  },
  {
   "cell_type": "code",
   "execution_count": null,
   "metadata": {},
   "outputs": [],
   "source": [
    "file_name = input('Enter file name: ')\n",
    "try:\n",
    "    f = open(file_name, encoding='utf-8')\n",
    "    # Read file line by line\n",
    "    n_words_total = 0\n",
    "    n_lines = 0\n",
    "\n",
    "    while True:\n",
    "        line = f.readline()         # read one line a time and go to next line\n",
    "        if not line: break          # no more line to read\n",
    "        \n",
    "        n_lines += 1\n",
    "        n_words = len(line.split())\n",
    "        n_words_total += n_words\n",
    "    \n",
    "    print(f'There are {n_words_total} words in {file_name}.')\n",
    "\n",
    "except FileNotFoundError:\n",
    "    print(f'File {file_name} not found.')"
   ]
  }
 ],
 "metadata": {
  "kernelspec": {
   "display_name": "Python 3",
   "language": "python",
   "name": "python3"
  },
  "language_info": {
   "codemirror_mode": {
    "name": "ipython",
    "version": 3
   },
   "file_extension": ".py",
   "mimetype": "text/x-python",
   "name": "python",
   "nbconvert_exporter": "python",
   "pygments_lexer": "ipython3",
   "version": "3.9.12"
  },
  "orig_nbformat": 4
 },
 "nbformat": 4,
 "nbformat_minor": 2
}
